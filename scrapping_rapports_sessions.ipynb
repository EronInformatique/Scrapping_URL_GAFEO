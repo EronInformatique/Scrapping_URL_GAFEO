{
 "cells": [
  {
   "cell_type": "code",
   "execution_count": null,
   "metadata": {},
   "outputs": [],
   "source": [
    "# Import libraries\n",
    "import requests\n",
    "from bs4 import BeautifulSoup"
   ]
  },
  {
   "cell_type": "code",
   "execution_count": null,
   "metadata": {},
   "outputs": [],
   "source": [
    "\n",
    "URL = \"https://www.gafeo.fr/admin/tool/reportsessions/index.php\"#\"http://annuairesante.ameli.fr/\"\n",
    "idToFind= \"maincontent\"\n",
    "className=\"id_individuel\"\n",
    "page = requests.get(URL)\n",
    "soup = BeautifulSoup(page.content, 'html.parser')\n",
    "print(soup.prettify())\n",
    "\n",
    "results = soup.find(id=idToFind)\n",
    "results_class = soup.find_all(\"option\")\n",
    "print(results)\n",
    "\n",
    "\n"
   ]
  },
  {
   "cell_type": "code",
   "execution_count": 2,
   "metadata": {},
   "outputs": [
    {
     "name": "stderr",
     "output_type": "stream",
     "text": [
      "/var/folders/9g/9qptqtl550vchpg029w9bzjr0000gn/T/ipykernel_10003/1754461490.py:14: DeprecationWarning: executable_path has been deprecated, please pass in a Service object\n",
      "  browser = webdriver.Chrome(options= options, executable_path=PATH)\n"
     ]
    },
    {
     "name": "stdout",
     "output_type": "stream",
     "text": [
      "Process completed.\n"
     ]
    },
    {
     "ename": "KeyboardInterrupt",
     "evalue": "",
     "output_type": "error",
     "traceback": [
      "\u001b[0;31m---------------------------------------------------------------------------\u001b[0m",
      "\u001b[0;31mKeyboardInterrupt\u001b[0m                         Traceback (most recent call last)",
      "Input \u001b[0;32mIn [2]\u001b[0m, in \u001b[0;36m<module>\u001b[0;34m\u001b[0m\n\u001b[1;32m     27\u001b[0m group_session_dropdown \u001b[38;5;241m=\u001b[39m Select(WebDriverWait(browser,\u001b[38;5;241m10\u001b[39m)\u001b[38;5;241m.\u001b[39muntil(EC\u001b[38;5;241m.\u001b[39mpresence_of_element_located((By\u001b[38;5;241m.\u001b[39mCLASS_NAME,\u001b[38;5;124m\"\u001b[39m\u001b[38;5;124mgroup_session\u001b[39m\u001b[38;5;124m\"\u001b[39m))))\n\u001b[1;32m     28\u001b[0m group_session_dropdown\u001b[38;5;241m.\u001b[39mselect_by_value(\u001b[38;5;124m\"\u001b[39m\u001b[38;5;124m1478\u001b[39m\u001b[38;5;124m\"\u001b[39m)\n\u001b[0;32m---> 30\u001b[0m contenu\u001b[38;5;241m=\u001b[39m\u001b[43mWebDriverWait\u001b[49m(browser,\u001b[38;5;241m10\u001b[39m)\u001b[38;5;241m.\u001b[39muntil(EC\u001b[38;5;241m.\u001b[39mpresence_of_element_located((By\u001b[38;5;241m.\u001b[39mCLASS_NAME,\u001b[38;5;124m'\u001b[39m\u001b[38;5;124mcontenu\u001b[39m\u001b[38;5;124m'\u001b[39m)))\n\u001b[1;32m     31\u001b[0m elems \u001b[38;5;241m=\u001b[39m WebDriverWait(contenu,\u001b[38;5;241m10\u001b[39m)\u001b[38;5;241m.\u001b[39muntil(EC\u001b[38;5;241m.\u001b[39mpresence_of_all_elements_located((By\u001b[38;5;241m.\u001b[39mTAG_NAME,\u001b[38;5;124m'\u001b[39m\u001b[38;5;124ma\u001b[39m\u001b[38;5;124m'\u001b[39m)))\n\u001b[1;32m     32\u001b[0m \u001b[38;5;28;01mfor\u001b[39;00m elem \u001b[38;5;129;01min\u001b[39;00m  elems :\n",
      "Input \u001b[0;32mIn [2]\u001b[0m, in \u001b[0;36m<module>\u001b[0;34m\u001b[0m\n\u001b[1;32m     27\u001b[0m group_session_dropdown \u001b[38;5;241m=\u001b[39m Select(WebDriverWait(browser,\u001b[38;5;241m10\u001b[39m)\u001b[38;5;241m.\u001b[39muntil(EC\u001b[38;5;241m.\u001b[39mpresence_of_element_located((By\u001b[38;5;241m.\u001b[39mCLASS_NAME,\u001b[38;5;124m\"\u001b[39m\u001b[38;5;124mgroup_session\u001b[39m\u001b[38;5;124m\"\u001b[39m))))\n\u001b[1;32m     28\u001b[0m group_session_dropdown\u001b[38;5;241m.\u001b[39mselect_by_value(\u001b[38;5;124m\"\u001b[39m\u001b[38;5;124m1478\u001b[39m\u001b[38;5;124m\"\u001b[39m)\n\u001b[0;32m---> 30\u001b[0m contenu\u001b[38;5;241m=\u001b[39m\u001b[43mWebDriverWait\u001b[49m(browser,\u001b[38;5;241m10\u001b[39m)\u001b[38;5;241m.\u001b[39muntil(EC\u001b[38;5;241m.\u001b[39mpresence_of_element_located((By\u001b[38;5;241m.\u001b[39mCLASS_NAME,\u001b[38;5;124m'\u001b[39m\u001b[38;5;124mcontenu\u001b[39m\u001b[38;5;124m'\u001b[39m)))\n\u001b[1;32m     31\u001b[0m elems \u001b[38;5;241m=\u001b[39m WebDriverWait(contenu,\u001b[38;5;241m10\u001b[39m)\u001b[38;5;241m.\u001b[39muntil(EC\u001b[38;5;241m.\u001b[39mpresence_of_all_elements_located((By\u001b[38;5;241m.\u001b[39mTAG_NAME,\u001b[38;5;124m'\u001b[39m\u001b[38;5;124ma\u001b[39m\u001b[38;5;124m'\u001b[39m)))\n\u001b[1;32m     32\u001b[0m \u001b[38;5;28;01mfor\u001b[39;00m elem \u001b[38;5;129;01min\u001b[39;00m  elems :\n",
      "File \u001b[0;32m_pydevd_bundle/pydevd_cython.pyx:1363\u001b[0m, in \u001b[0;36m_pydevd_bundle.pydevd_cython.SafeCallWrapper.__call__\u001b[0;34m()\u001b[0m\n",
      "File \u001b[0;32m_pydevd_bundle/pydevd_cython.pyx:662\u001b[0m, in \u001b[0;36m_pydevd_bundle.pydevd_cython.PyDBFrame.trace_dispatch\u001b[0;34m()\u001b[0m\n",
      "File \u001b[0;32m_pydevd_bundle/pydevd_cython.pyx:1288\u001b[0m, in \u001b[0;36m_pydevd_bundle.pydevd_cython.PyDBFrame.trace_dispatch\u001b[0;34m()\u001b[0m\n",
      "File \u001b[0;32m_pydevd_bundle/pydevd_cython.pyx:1250\u001b[0m, in \u001b[0;36m_pydevd_bundle.pydevd_cython.PyDBFrame.trace_dispatch\u001b[0;34m()\u001b[0m\n",
      "File \u001b[0;32m_pydevd_bundle/pydevd_cython.pyx:297\u001b[0m, in \u001b[0;36m_pydevd_bundle.pydevd_cython.PyDBFrame.do_wait_suspend\u001b[0;34m()\u001b[0m\n",
      "File \u001b[0;32m~/miniconda3/envs/scrapping-env/lib/python3.10/site-packages/debugpy/_vendored/pydevd/pydevd.py:1976\u001b[0m, in \u001b[0;36mPyDB.do_wait_suspend\u001b[0;34m(self, thread, frame, event, arg, exception_type)\u001b[0m\n\u001b[1;32m   1973\u001b[0m             from_this_thread\u001b[38;5;241m.\u001b[39mappend(frame_custom_thread_id)\n\u001b[1;32m   1975\u001b[0m     \u001b[38;5;28;01mwith\u001b[39;00m \u001b[38;5;28mself\u001b[39m\u001b[38;5;241m.\u001b[39m_threads_suspended_single_notification\u001b[38;5;241m.\u001b[39mnotify_thread_suspended(thread_id, stop_reason):\n\u001b[0;32m-> 1976\u001b[0m         keep_suspended \u001b[38;5;241m=\u001b[39m \u001b[38;5;28;43mself\u001b[39;49m\u001b[38;5;241;43m.\u001b[39;49m\u001b[43m_do_wait_suspend\u001b[49m\u001b[43m(\u001b[49m\u001b[43mthread\u001b[49m\u001b[43m,\u001b[49m\u001b[43m \u001b[49m\u001b[43mframe\u001b[49m\u001b[43m,\u001b[49m\u001b[43m \u001b[49m\u001b[43mevent\u001b[49m\u001b[43m,\u001b[49m\u001b[43m \u001b[49m\u001b[43marg\u001b[49m\u001b[43m,\u001b[49m\u001b[43m \u001b[49m\u001b[43msuspend_type\u001b[49m\u001b[43m,\u001b[49m\u001b[43m \u001b[49m\u001b[43mfrom_this_thread\u001b[49m\u001b[43m,\u001b[49m\u001b[43m \u001b[49m\u001b[43mframes_tracker\u001b[49m\u001b[43m)\u001b[49m\n\u001b[1;32m   1978\u001b[0m frames_list \u001b[38;5;241m=\u001b[39m \u001b[38;5;28;01mNone\u001b[39;00m\n\u001b[1;32m   1980\u001b[0m \u001b[38;5;28;01mif\u001b[39;00m keep_suspended:\n\u001b[1;32m   1981\u001b[0m     \u001b[38;5;66;03m# This means that we should pause again after a set next statement.\u001b[39;00m\n",
      "File \u001b[0;32m~/miniconda3/envs/scrapping-env/lib/python3.10/site-packages/debugpy/_vendored/pydevd/pydevd.py:2011\u001b[0m, in \u001b[0;36mPyDB._do_wait_suspend\u001b[0;34m(self, thread, frame, event, arg, suspend_type, from_this_thread, frames_tracker)\u001b[0m\n\u001b[1;32m   2008\u001b[0m         \u001b[38;5;28mself\u001b[39m\u001b[38;5;241m.\u001b[39m_call_mpl_hook()\n\u001b[1;32m   2010\u001b[0m     \u001b[38;5;28mself\u001b[39m\u001b[38;5;241m.\u001b[39mprocess_internal_commands()\n\u001b[0;32m-> 2011\u001b[0m     \u001b[43mtime\u001b[49m\u001b[38;5;241;43m.\u001b[39;49m\u001b[43msleep\u001b[49m\u001b[43m(\u001b[49m\u001b[38;5;241;43m0.01\u001b[39;49m\u001b[43m)\u001b[49m\n\u001b[1;32m   2013\u001b[0m \u001b[38;5;28mself\u001b[39m\u001b[38;5;241m.\u001b[39mcancel_async_evaluation(get_current_thread_id(thread), \u001b[38;5;28mstr\u001b[39m(\u001b[38;5;28mid\u001b[39m(frame)))\n\u001b[1;32m   2015\u001b[0m \u001b[38;5;66;03m# process any stepping instructions\u001b[39;00m\n",
      "\u001b[0;31mKeyboardInterrupt\u001b[0m: "
     ]
    }
   ],
   "source": [
    "from selenium import webdriver\n",
    "from selenium.webdriver.support.ui import Select, WebDriverWait\n",
    "from selenium.webdriver.chrome.options import Options\n",
    "from selenium.webdriver.common.by import By\n",
    "from selenium.webdriver.common.keys import Keys\n",
    "from selenium.webdriver.support import expected_conditions as EC\n",
    "from selenium.common.exceptions import NoSuchElementException\n",
    "\n",
    "formation_recherche = \"INF002\"\n",
    "# async def main():\n",
    "options = Options()\n",
    "options.binary_location = \"/Applications/Internet/Google Chrome.app/Contents/MacOS/Google Chrome\"\n",
    "\n",
    "PATH=\"/Applications/chromedriver\"\n",
    "\n",
    "browser = webdriver.Chrome(options= options, executable_path=PATH)\n",
    "browser.get(\"https://www.gafeo.fr/admin/tool/reportsessions/index.php\")\n",
    "browser.find_element(By.ID,'username').send_keys(\"andria.c@eronservice.fr\")\n",
    "browser.find_element(By.ID,'password').send_keys(\"Andria-2021!\")\n",
    "browser.find_element(By.CSS_SELECTOR,\"button.btn-primary\").click()\n",
    "\n",
    "pdf_downloaded=0\n",
    "try:\n",
    "        formation_session_dropdown =  Select(WebDriverWait(browser,10).until(EC.presence_of_element_located((By.CLASS_NAME,\"formation_session\"))))\n",
    "        all_Options_Formation = formation_session_dropdown.options\n",
    "        options_formations = [ option.text for option in all_Options_Formation if formation_recherche in option.text ]\n",
    "\n",
    "        formation_session_dropdown.select_by_visible_text(options_formations[1])\n",
    "        \n",
    "        group_session_dropdown = Select(WebDriverWait(browser,10).until(EC.presence_of_element_located((By.CLASS_NAME,\"group_session\"))))\n",
    "        all_options_gp_formation = group_session_dropdown.options\n",
    "        options_gp_formations = [ option.text for option in all_options_gp_formation if formation_recherche in option.text ]\n",
    "\n",
    "        \n",
    "        group_session_dropdown.select_by_visible_text(options_gp_formations[1])\n",
    "\n",
    "        contenu=WebDriverWait(browser,10).until(EC.presence_of_element_located((By.CLASS_NAME,'contenu')))\n",
    "        elems = WebDriverWait(contenu,10).until(EC.presence_of_all_elements_located((By.TAG_NAME,'a')))\n",
    "        for elem in  elems :\n",
    "                WebDriverWait(browser,10).until(EC.presence_of_element_located((By.LINK_TEXT,elem.accessible_name))).click()\n",
    "        \n",
    "        print(\"Nombre d'apprenant:\"+str(len(elems)))\n",
    "        while pdf_downloaded !=len(elems):\n",
    "                find_href_pdf_elems = WebDriverWait(browser,10).until(EC.presence_of_all_elements_located((By.CSS_SELECTOR,'.contenu li div a')))\n",
    "                print(\"Nombre d'éléments téléchargeable trouvé:\" +str(len(find_href_pdf_elems)))\n",
    "                if len(find_href_pdf_elems)==0:\n",
    "                        continue\n",
    "                else:\n",
    "                        i=0\n",
    "                        for el in find_href_pdf_elems:\n",
    "                                print(\"Nombre de fichier téléchargé avant if :\"+ str(pdf_downloaded))\n",
    "                                # browser.execute_script(\"arguments[0].click();\", el) fonctionne aussi\n",
    "                                if (i<=pdf_downloaded-1 and pdf_downloaded !=0 ):\n",
    "                                        i=i+1\n",
    "                                        print(\"comparison between i: \"+ str(i) + \" and nb pdf\" + str(pdf_downloaded))\n",
    "                                        continue\n",
    "                                else:\n",
    "                                        print(\"Boucle dans la liste des éléments avec href:\"+str(i))\n",
    "                                        el.send_keys(Keys.RETURN)\n",
    "                                        pdf_downloaded=pdf_downloaded+1\n",
    "                                        print(\"Nombre de fichier téléchargé: \"+ str(pdf_downloaded) + \"/\"+str(len(elems)))\n",
    "                                i=i+1\n",
    "             \n",
    "except NoSuchElementException:\n",
    "    print(\"There was an error, no such element\")\n",
    "else:\n",
    "    print(\"There were no errors.\")\n",
    "finally:\n",
    "    print(\"Process completed.\")\n",
    "        # browser.quit()\n",
    "\n",
    "# await asyncio.sleep(2) \n",
    "# elements[42].click() WORKS donwload csv\n",
    "# print(WebDriverWait(browser, 20).until(EC.visibility_of_element_located((By.CSS_SELECTOR, \"li.list-group-item  > a[href]\"))).get_attribute(\"href\"))\n",
    "# await main()\n"
   ]
  }
 ],
 "metadata": {
  "interpreter": {
   "hash": "83ff18a224e78cb0259d5762300b61f5bd5480c621c2219f2ad7396e11db8a9d"
  },
  "kernelspec": {
   "display_name": "Python 3.10.0 64-bit ('scrapping-env': conda)",
   "language": "python",
   "name": "python3"
  },
  "language_info": {
   "codemirror_mode": {
    "name": "ipython",
    "version": 3
   },
   "file_extension": ".py",
   "mimetype": "text/x-python",
   "name": "python",
   "nbconvert_exporter": "python",
   "pygments_lexer": "ipython3",
   "version": "3.10.0"
  },
  "orig_nbformat": 4
 },
 "nbformat": 4,
 "nbformat_minor": 2
}

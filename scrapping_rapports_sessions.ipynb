{
 "cells": [
  {
   "cell_type": "code",
   "execution_count": null,
   "metadata": {},
   "outputs": [],
   "source": [
    "import unidecode\n",
    "import re\n",
    "from selenium import webdriver\n",
    "from selenium.webdriver.support.ui import Select, WebDriverWait\n",
    "from selenium.webdriver.chrome.options import Options\n",
    "from selenium.webdriver.common.by import By\n",
    "from selenium.webdriver.common.keys import Keys\n",
    "from selenium.webdriver.support import expected_conditions as EC\n",
    "import pandas as pd\n",
    "import pygsheets\n",
    "import os\n",
    "from fuzzywuzzy import process\n"
   ]
  },
  {
   "cell_type": "code",
   "execution_count": null,
   "metadata": {},
   "outputs": [],
   "source": [
    "\n",
    "gc = pygsheets.authorize(client_secret='/Users/acapai/Documents/Git/Espace-test/Scrapping-With-Python/Scrapping_Url_GAFEO/Oauth_gg/code_secret_client_95743482524-gj2mnoav9naiqt454ggvt71r28r4n3dk.apps.googleusercontent.com.json')\n",
    "\n",
    "# Suivi Eron 2022 (derniere version)\n",
    "#sh = gc.open_by_key('13VqSH8KjAzB3-mroVhtUJjXgO2Gs31UtpqdehiLMyRs')\n",
    "\n",
    "# DUPLICATA Suivi Eron 2022 (derniere version)\n",
    "sh = gc.open_by_key('1Ix4xc_kJPrIBXQL8JmGVz_XNnY4t7AMHdHvmyVlExiA')\n",
    "\n",
    "wksheet_depart_inf_01_01 = sh[4]\n",
    "col_name_apprenant = wksheet_depart_inf_01_01.get_col(9)\n",
    "col_formation_raw = wksheet_depart_inf_01_01.get_col(8)\n",
    "\n",
    "# print(col_name_apprenant)\n",
    "print(wksheet_depart_inf_01_01.title)\n",
    "print(sh.title)\n",
    "\n",
    "col_apprenant = [string for string in col_name_apprenant if string ]\n",
    "col_formation = [ string.split(\"-\")[0] for string in col_formation_raw if string]\n"
   ]
  },
  {
   "cell_type": "code",
   "execution_count": null,
   "metadata": {},
   "outputs": [],
   "source": [
    "col_formation_raw = wksheet_depart_inf_01_01.get_col(8)\n",
    "col_formation = [ string.split(\"-\")[0] for string in col_formation_raw if string]\n"
   ]
  },
  {
   "cell_type": "code",
   "execution_count": null,
   "metadata": {},
   "outputs": [],
   "source": [
    "datasheet = pd.DataFrame(list(zip(col_formation[2:],col_apprenant[2:])),columns=['Formation','Apprenant'])\n",
    "datasheet['Dernier Accès'] = ''\n",
    "datasheet['Pourcentage']=''\n",
    "datasheet['Apprenant_Normalize']=''\n",
    "datasheet[\"Apprenant_Gafeo\"]=\"\"\n"
   ]
  },
  {
   "cell_type": "code",
   "execution_count": null,
   "metadata": {},
   "outputs": [],
   "source": [
    "#Normalize name \n",
    "for index,row in datasheet.iterrows():\n",
    "    print(unidecode.unidecode(row['Apprenant']))\n",
    "    print(row['Apprenant'].lower())\n",
    "    print(unidecode.unidecode(row['Apprenant'].lower()))\n",
    "    print(re.sub(r'[^a-zA-Z0-9]','',unidecode.unidecode(row['Apprenant'].lower().replace(' ', ''))))\n",
    "    # row['Apprenant_Normalize']= re.sub(r'[^a-zA-Z0-9]','',unidecode.unidecode(row['Apprenant']).lower().replace(' ', ''))\n",
    "    row['Apprenant_Normalize']= unidecode.unidecode(row['Apprenant']).lower()"
   ]
  },
  {
   "cell_type": "code",
   "execution_count": null,
   "metadata": {},
   "outputs": [],
   "source": [
    "formation_unique= datasheet.Formation.unique().tolist()\n"
   ]
  },
  {
   "cell_type": "code",
   "execution_count": null,
   "metadata": {},
   "outputs": [],
   "source": [
    "dic_dataframe={}\n",
    "for formation in formation_unique:\n",
    "    dic_dataframe[formation]=datasheet[datasheet[\"Formation\"]==formation]\n",
    "print(dic_dataframe[formation_unique[-2]])"
   ]
  },
  {
   "cell_type": "code",
   "execution_count": null,
   "metadata": {},
   "outputs": [],
   "source": [
    "formation_key_dic=list(dic_dataframe.keys())\n",
    "print(formation_key_dic)"
   ]
  },
  {
   "cell_type": "code",
   "execution_count": null,
   "metadata": {},
   "outputs": [],
   "source": [
    "if os.path.exists(\"/Applications/Internet/Google Chrome.app/Contents/MacOS/Google Chrome\"):\n",
    "        path_google_chrome=\"/Applications/Internet/Google Chrome.app/Contents/MacOS/Google Chrome\"\n",
    "else:\n",
    "    path_google_chrome=\"/Applications/Google Chrome.app/Contents/MacOS/Google Chrome\"\n",
    "options = Options()\n",
    "options.binary_location = path_google_chrome\n",
    "options.add_experimental_option(\"detach\", True)\n",
    "# options.add_argument(\"--headless\")\n",
    "# options.add_argument(\"--disable-gpu\")\n",
    "# options.add_experimental_option('prefs', {'download.default_directory':'/Users/acapai/Downloads/'})\n",
    "# options.add_experimental_option('prefs',{\"profile.default_content_setting_values.automatic_downloads\": 1})\n",
    "\n",
    "rel_path=\"/Applications/chromedriver\"\n",
    "PATH = os.path.abspath(rel_path)\n",
    "time_out=30\n",
    "id=\"automate\"\n",
    "psswd=\"\"\n",
    "browser = webdriver.Chrome(options=options,executable_path=PATH)\n",
    "browser.get(\"https://www.gafeo.fr/my/\")\n",
    "browser.find_element(By.ID,'username').send_keys(id)\n",
    "browser.find_element(By.ID,'password').send_keys(psswd)\n",
    "browser.find_element(By.CSS_SELECTOR,\"button.btn-primary\").click()\n",
    "div_searchbox = WebDriverWait(browser,10).until(EC.presence_of_element_located((By.ID,\"coursesearchbox\")))"
   ]
  },
  {
   "cell_type": "code",
   "execution_count": null,
   "metadata": {},
   "outputs": [],
   "source": [
    "time_out=30"
   ]
  },
  {
   "cell_type": "code",
   "execution_count": null,
   "metadata": {},
   "outputs": [],
   "source": [
    "# POUR RETOURNER EN ARRIERE\n",
    "browser.execute_script(\"window.history.go(-1)\")"
   ]
  },
  {
   "cell_type": "code",
   "execution_count": null,
   "metadata": {},
   "outputs": [],
   "source": [
    "inputs_field = WebDriverWait(browser,10).until(EC.presence_of_all_elements_located((By.CSS_SELECTOR,\"#coursesearch .coursesearchbox input\")))"
   ]
  },
  {
   "cell_type": "code",
   "execution_count": null,
   "metadata": {},
   "outputs": [],
   "source": [
    "inputs_field[0].send_keys(formation_key_dic[0])\n",
    "inputs_field[1].click()"
   ]
  },
  {
   "cell_type": "code",
   "execution_count": null,
   "metadata": {},
   "outputs": [],
   "source": [
    "action_link = WebDriverWait(browser,10).until(EC.presence_of_all_elements_located((By.CLASS_NAME,\"action-link\")))\n",
    "action_link[0].click()"
   ]
  },
  {
   "cell_type": "code",
   "execution_count": null,
   "metadata": {},
   "outputs": [],
   "source": [
    "div_button_config_course = WebDriverWait(browser,10).until(EC.presence_of_all_elements_located((By.CSS_SELECTOR,\".teacherdash a\")))\n",
    "div_button_config_course[0].click()"
   ]
  },
  {
   "cell_type": "code",
   "execution_count": null,
   "metadata": {},
   "outputs": [],
   "source": [
    "WebDriverWait(browser,10).until(EC.presence_of_element_located((By.LINK_TEXT,\"Rapports de session\"))).click()"
   ]
  },
  {
   "cell_type": "code",
   "execution_count": null,
   "metadata": {},
   "outputs": [],
   "source": [
    "dp_down_list_participant = Select(WebDriverWait(browser,10).until(EC.presence_of_element_located((By.CSS_SELECTOR,\"select[name='userid']\"))))"
   ]
  },
  {
   "cell_type": "code",
   "execution_count": null,
   "metadata": {},
   "outputs": [],
   "source": [
    "select_box = browser.find_element_by_name(\"userid\") \n",
    "options = [x for x in select_box.find_elements(By.TAG_NAME,\"option\")]"
   ]
  },
  {
   "cell_type": "code",
   "execution_count": null,
   "metadata": {},
   "outputs": [],
   "source": [
    "for i,element in enumerate(dp_down_list_participant.options):\n",
    "    print(element.get_attribute(\"value\"))\n",
    "    print(element.get_attribute(\"text\"))\n",
    "    # element_normalize=re.sub(r'[^a-zA-Z0-9]','',unidecode.unidecode(element.get_attribute(\"text\")).lower().replace(' ', ''))\n",
    "    element_normalize=re.sub(r'[^a-zA-Z0-9]','',unidecode.unidecode(element.get_attribute(\"text\")).lower())\n",
    "    list_apprenant= dic_dataframe[formation_key_dic[0]]['Apprenant_Normalize'].tolist()\n",
    "    print(\"element_normalize:\",element_normalize)\n",
    "    print(\"list_apprenant:\",list_apprenant)\n",
    "    Ratios = process.extract(element_normalize,list_apprenant)\n",
    "    print(Ratios)\n",
    "    highest = process.extractOne(element_normalize,list_apprenant)\n",
    "    print(highest)\n",
    "    if element_normalize in dic_dataframe[formation_key_dic[0]][\"Apprenant_Normalize\"].tolist():\n",
    "        print(\"YES\")\n",
    "    # print(\"dic_dataframe[formation_key_dic[0]]['Apprenant_Normalize']\",dic_dataframe[formation_key_dic[0]][\"Apprenant_Normalize\"])\n",
    "    # if element_normalize in dic_dataframe[formation_key_dic[0]][\"Apprenant_Normalize\"]:\n",
    "        print(\"dic_dataframe[formation_key_dic[0]]['Apprenant_Normalize']==element_normalize\",dic_dataframe[formation_key_dic[0]][\"Apprenant_Normalize\"]==element_normalize)\n",
    "        dic_dataframe[formation_key_dic[0]].loc[dic_dataframe[formation_key_dic[0]][\"Apprenant_Normalize\"]==element_normalize,\"Apprenant_Gafeo\"]=element.get_attribute(\"text\")"
   ]
  },
  {
   "cell_type": "code",
   "execution_count": null,
   "metadata": {},
   "outputs": [],
   "source": [
    "pd_copy = dic_dataframe[formation_key_dic[0]]\n",
    "pd_copy[\"Ratio_Fuzzy\"]=\"\"\n",
    "pd_copy[\"Name_Fuzzy\"]=\"\"\n",
    "pd_copy[\"option_value\"]=\"\"\n",
    "list_apprenant= pd_copy['Apprenant_Normalize'].tolist()\n",
    "for i,element in enumerate(dp_down_list_participant.options):\n",
    "    print(element.get_attribute(\"value\"))\n",
    "    print(element.get_attribute(\"text\"))\n",
    "    # element_normalize=re.sub(r'[^a-zA-Z0-9]','',unidecode.unidecode(element.get_attribute(\"text\")).lower().replace(' ', ''))\n",
    "    element_normalize=unidecode.unidecode(element.get_attribute(\"text\")).lower()\n",
    "    print(\"element_normalize:\",element_normalize)\n",
    "    print(\"list_apprenant:\",list_apprenant)\n",
    "    Ratios = process.extract(element_normalize,list_apprenant,limit=len(list_apprenant))\n",
    "    print(Ratios)\n",
    "    highest = process.extractOne(element_normalize,list_apprenant)\n",
    "    print(\"Highest\",highest)\n",
    "    index= [x for x, y in enumerate(list_apprenant) if y == highest[0]]\n",
    "    if highest[1]>75:\n",
    "        print(\"Ratio\",highest[1])\n",
    "        print(\"index\",index[0])\n",
    "        pd_copy.iloc[index[0],pd_copy.columns.get_loc(\"Ratio_Fuzzy\")]=highest[1]\n",
    "        pd_copy.iloc[index[0],pd_copy.columns.get_loc(\"Name_Fuzzy\")]=highest[0]\n",
    "        pd_copy.iloc[index[0],pd_copy.columns.get_loc(\"option_value\")]=element.get_attribute(\"value\")\n",
    "        pd_copy.iloc[index[0],pd_copy.columns.get_loc(\"Apprenant_Gafeo\")]=element.get_attribute(\"text\")\n",
    "\n",
    "    "
   ]
  },
  {
   "cell_type": "code",
   "execution_count": null,
   "metadata": {},
   "outputs": [],
   "source": [
    "for ind in pd_copy.index:\n",
    "    value = pd_copy[\"option_value\"][ind]\n",
    "    if pd_copy[\"Apprenant_Gafeo\"][ind] !=\"\":\n",
    "        lastname=pd_copy[\"Apprenant_Gafeo\"][ind].split()[0]\n",
    "        firstname=pd_copy[\"Apprenant_Gafeo\"][ind].split()[1]\n",
    "        print(firstname+\" \"+lastname)\n",
    "        print(\"value option\",value)\n",
    "    if value != \"\":\n",
    "        dp_down_list_participant = Select(WebDriverWait(browser,time_out).until(EC.presence_of_element_located((By.CSS_SELECTOR,\"select[name='userid']\"))))\n",
    "        dp_down_list_participant.select_by_value(value)\n",
    "        opt_name = WebDriverWait(browser,time_out).until(EC.presence_of_element_located((By.CSS_SELECTOR,\"input[name='go_btn']\")))\n",
    "        opt_name.send_keys(Keys.RETURN)\n",
    "        WebDriverWait(browser,time_out).until(EC.text_to_be_present_in_element((By.CSS_SELECTOR,\".userinfobox h1\"),lastname))\n",
    "        info_pourcentage_list = WebDriverWait(browser,time_out).until(EC.presence_of_all_elements_located((By.CSS_SELECTOR,\".mandatory-items div\")))\n",
    "        info_pourcentage_text = info_pourcentage_list[2].text\n",
    "        pourcentage_only=re.findall(r\"^.*?\\([^\\d]*(\\d+)[^\\d]*\\).*$\",info_pourcentage_text)\n",
    "        print(\"%:\",pourcentage_only[0])\n",
    "\n",
    "        info_last_access = WebDriverWait(browser,time_out).until(EC.presence_of_element_located((By.CSS_SELECTOR,\"#sample-lastcourseaccess .sample-value\")))\n",
    "        print(\"info_last_access\",info_last_access.text)\n",
    "        pd_copy.loc[ind,'Dernier Accès'] = info_last_access.text\n",
    "        pd_copy.loc[ind,'Pourcentage']=pourcentage_only[0]\n",
    "    \n"
   ]
  },
  {
   "cell_type": "code",
   "execution_count": null,
   "metadata": {},
   "outputs": [],
   "source": [
    "# print(datasheet.loc[pd_copy.index.values,\"Dernier Accès\"])\n",
    "# print(datasheet.loc[pd_copy.index.values,\"Apprenant\"])\n",
    "datasheet.loc[pd_copy.index.values,\"Dernier Accès\"] = pd_copy.loc[pd_copy.index.values,\"Dernier Accès\"]\n",
    "datasheet.loc[pd_copy.index.values,\"Pourcentage\"] = pd_copy.loc[pd_copy.index.values,\"Pourcentage\"]"
   ]
  }
 ],
 "metadata": {
  "interpreter": {
   "hash": "83ff18a224e78cb0259d5762300b61f5bd5480c621c2219f2ad7396e11db8a9d"
  },
  "kernelspec": {
   "display_name": "Python 3.10.0 64-bit ('scrapping-env': conda)",
   "language": "python",
   "name": "python3"
  },
  "language_info": {
   "codemirror_mode": {
    "name": "ipython",
    "version": 3
   },
   "file_extension": ".py",
   "mimetype": "text/x-python",
   "name": "python",
   "nbconvert_exporter": "python",
   "pygments_lexer": "ipython3",
   "version": "3.10.0"
  },
  "orig_nbformat": 4
 },
 "nbformat": 4,
 "nbformat_minor": 2
}
